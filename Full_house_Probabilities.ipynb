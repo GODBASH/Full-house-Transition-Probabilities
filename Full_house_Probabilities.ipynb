{
  "nbformat": 4,
  "nbformat_minor": 0,
  "metadata": {
    "colab": {
      "name": "Full house Probabilities.ipynb",
      "provenance": []
    },
    "kernelspec": {
      "name": "python3",
      "display_name": "Python 3"
    },
    "language_info": {
      "name": "python"
    },
    "accelerator": "GPU"
  },
  "cells": [
    {
      "cell_type": "code",
      "execution_count": 1,
      "metadata": {
        "colab": {
          "base_uri": "https://localhost:8080/"
        },
        "id": "HSyOFER_FHoG",
        "outputId": "4fc26650-d4b5-41f2-b27e-750fe33ff1c7"
      },
      "outputs": [
        {
          "output_type": "stream",
          "name": "stderr",
          "text": [
            "100%|██████████| 1000000/1000000 [00:42<00:00, 23383.22it/s]"
          ]
        },
        {
          "output_type": "stream",
          "name": "stdout",
          "text": [
            "Roll number  1  probabilities.\n",
            "[x_00, x_20, x_22, x_32, x_30, x_40, x_50]= [0.092342 0.462681 0.231752 0.038598 0.154383 0.019443 0.000801] respectively.\n",
            "____________________________________________________________________________________________\n"
          ]
        },
        {
          "output_type": "stream",
          "name": "stderr",
          "text": [
            "\n",
            "100%|██████████| 1000000/1000000 [01:22<00:00, 12149.93it/s]\n"
          ]
        },
        {
          "output_type": "stream",
          "name": "stdout",
          "text": [
            "Roll number  2  probabilities.\n",
            "[x_00, x_20, x_22, x_32, x_30, x_40, x_50]= [8.60500e-03 1.97726e-01 3.30342e-01 1.86319e-01 2.33241e-01 4.36770e-02\n",
            " 9.00000e-05] respectively.\n",
            "____________________________________________________________________________________________\n"
          ]
        },
        {
          "output_type": "stream",
          "name": "stderr",
          "text": [
            "100%|██████████| 1000000/1000000 [02:05<00:00, 7936.74it/s]\n"
          ]
        },
        {
          "output_type": "stream",
          "name": "stdout",
          "text": [
            "Roll number  3  probabilities.\n",
            "[x_00, x_20, x_22, x_32, x_30, x_40, x_50]= [7.67000e-04 6.97620e-02 2.87562e-01 3.60451e-01 2.29712e-01 5.17370e-02\n",
            " 9.00000e-06] respectively.\n",
            "____________________________________________________________________________________________\n"
          ]
        }
      ],
      "source": [
        "from tqdm import tqdm\n",
        "from tqdm.contrib.concurrent import process_map \n",
        "import numpy as np\n",
        "import random\n",
        "from prettytable import PrettyTable\n",
        "\n",
        "dice = [1, 2, 3, 4, 5, 6]   #my dice\n",
        "\n",
        "ID_dict={\"x_00\":1,\"x_20\":2,\"x_22\":3,\"x_32\":4,\"x_30\":5,\"x_40\":6,\"x_50\":7} #ID all the states with 1-7\n",
        "\n",
        "def firstNsecondMax(x):\n",
        "    \"Functions takes a list x, counts number of 1,2,3,4,5,6's\"\n",
        "    \"returns first most common number and second most common number in a list x, in a list of len()=2\"\n",
        "    \n",
        "    l=[x.count(1), x.count(2), x.count(3), x.count(4), x.count(5), x.count(6)]\n",
        "    A = np.argmax(l)+1                                                      \n",
        "    new_l=l\n",
        "    new_l[np.argmax(new_l)]=0\n",
        "    A1 = np.argmax(new_l)+1\n",
        "    return [A,A1]\n",
        "\n",
        "def State(l):\n",
        "    \"Function takes list l\"\n",
        "    \"return state of a roll\"\n",
        "    if max(l)==5:                #check if its AAAAA\n",
        "        state=\"x_50\"\n",
        "    elif max(l)==4:              #check if its AAAAB\n",
        "        state=\"x_40\"\n",
        "    elif max(l)==3:              #check if its AAABB or AAABC\n",
        "        new_l= l\n",
        "        # removing the largest element from temp list\n",
        "        new_l.remove(max(new_l))\n",
        "        if max(new_l)==2:        #check if its AAABB  \n",
        "            state=\"x_32\"\n",
        "        else:                    #else its AAABC   \n",
        "            state=\"x_30\"\n",
        "    elif max(l)==2:\n",
        "        new_l= l\n",
        "        # removing the largest element from temp list\n",
        "        new_l.remove(max(new_l)) \n",
        "        if max(new_l)==2:        #check if its AABBC\n",
        "            state=\"x_22\"\n",
        "        else:                    #else its AABCD\n",
        "            state=\"x_20\"\n",
        "    \n",
        "    \n",
        "    else:                        #else its ABCDE\n",
        "        state=\"x_00\"\n",
        "    return state    \n",
        "  \n",
        "def Re_Roll(state,A,A1):\n",
        "        \"Function takes state of a list (state), the most appearing number (A), second most appearing number (A1) \" \n",
        "        \"returns a list containing new state and and the same A\" \n",
        "        if state==\"x_50\":\n",
        "          x=[A,A,A]\n",
        "          x_ = random.choices(dice,k=2)\n",
        "          x.append(x_[0])\n",
        "          x.append(x_[1])\n",
        "          l=[x.count(1), x.count(2), x.count(3), x.count(4), x.count(5), x.count(6)]\n",
        "          state=State(l)\n",
        "          A=firstNsecondMax(x)[0]\n",
        "          A1=firstNsecondMax(x)[1]\n",
        "        elif state==\"x_40\": \n",
        "          x=[A,A,A,A1]\n",
        "          x_ = random.choices(dice,k=1)\n",
        "          x.append(x_[0])\n",
        "          l=[x.count(1), x.count(2), x.count(3), x.count(4), x.count(5), x.count(6)]\n",
        "          state=State(l)\n",
        "          A=firstNsecondMax(x)[0]\n",
        "          A1=firstNsecondMax(x)[1]   \n",
        "        elif state==\"x_30\":\n",
        "          x=[A,A,A,A1]\n",
        "          x_ = random.choices(dice,k=1)\n",
        "          x.append(x_[0])\n",
        "          l=[x.count(1), x.count(2), x.count(3), x.count(4), x.count(5), x.count(6)]\n",
        "          state=State(l)\n",
        "          A=firstNsecondMax(x)[0]\n",
        "          A1=firstNsecondMax(x)[1]\n",
        "        elif state==\"x_32\":\n",
        "          x=[A,A,A,A1,A1]\n",
        "          l=[x.count(1), x.count(2), x.count(3), x.count(4), x.count(5), x.count(6)]\n",
        "          state=State(l)\n",
        "          A=firstNsecondMax(x)[0]\n",
        "          A1=firstNsecondMax(x)[1]\n",
        "        elif state==\"x_22\":\n",
        "          x=[A,A,A1,A1]\n",
        "          x_ = random.choices(dice,k=1)\n",
        "          x.append(x_[0])\n",
        "          l=[x.count(1), x.count(2), x.count(3), x.count(4), x.count(5), x.count(6)]\n",
        "          state=State(l)\n",
        "          A=firstNsecondMax(x)[0]\n",
        "          A1=firstNsecondMax(x)[1]\n",
        "        elif state==\"x_20\":\n",
        "          x=[A,A,A1]\n",
        "          x_ = random.choices(dice,k=2)\n",
        "          x.append(x_[0])\n",
        "          x.append(x_[1])\n",
        "          l=[x.count(1), x.count(2), x.count(3), x.count(4), x.count(5), x.count(6)]\n",
        "          state=State(l)\n",
        "          A=firstNsecondMax(x)[0]\n",
        "          A1=firstNsecondMax(x)[1]\n",
        "        else:\n",
        "          x= random.choices(dice,k=5)\n",
        "          l=[x.count(1), x.count(2), x.count(3), x.count(4), x.count(5), x.count(6)]\n",
        "          state=State(l)\n",
        "          A=firstNsecondMax(x)[0]\n",
        "          A1=firstNsecondMax(x)[1]\n",
        "        return [state, A, A1] \n",
        "for roll in range(3):          \n",
        "  def results(j):\n",
        "    \n",
        "      \"Returns the state ID of of the list i.e. x_00, x_20, x_22, x_32, x_30, x_40, x_50\"\n",
        "      x = random.choices(dice,k=5)\n",
        "      #count the number of 1s 2s 3s 4s 5s 6s and store in a list l\n",
        "      l=[x.count(1), x.count(2), x.count(3), x.count(4), x.count(5), x.count(6)]\n",
        "      state=State(l)\n",
        "      A=firstNsecondMax(x)[0]\n",
        "      A1=firstNsecondMax(x)[1]\n",
        "      for r in range(roll):\n",
        "        R=Re_Roll(state, A, A1)\n",
        "        state=R[0]\n",
        "        A=R[1]\n",
        "        A1=R[2]\n",
        "      return ID_dict[state]      #return the state ID\n",
        "\n",
        "\n",
        "  reps = int(1e6) # number of repetions of game\n",
        "  cores = 4 # number of cores to be used in parallel \n",
        "\n",
        "  # run the function results reps times (chunksize is how many executions are clustered together for one run on a single core)\n",
        "  res = process_map( results, range(reps), max_workers=cores, total=reps, chunksize=int(reps/1000), tqdm_class=tqdm)\n",
        "\n",
        "\n",
        "  # print how often we got which state\n",
        "  print(\"Roll number \",roll+1,\" probabilities.\")\n",
        "  print('[x_00, x_20, x_22, x_32, x_30, x_40, x_50]=', np.bincount(res)[1:] / reps, \"respectively.\" )\n",
        "  print(\"____________________________________________________________________________________________\")\n"
      ]
    }
  ]
}